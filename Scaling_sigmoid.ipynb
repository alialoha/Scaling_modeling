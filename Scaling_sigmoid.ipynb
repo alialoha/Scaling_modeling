{
 "cells": [
  {
   "cell_type": "code",
   "execution_count": 17,
   "metadata": {},
   "outputs": [],
   "source": [
    "%matplotlib inline\n",
    "import matplotlib\n",
    "matplotlib.rcParams['figure.dpi'] = 144\n",
    "\n",
    "from ipywidgets import interactive, IntSlider, Dropdown, FloatSlider\n",
    "from matplotlib import pylab as plt\n",
    "import numpy as np\n",
    "from IPython.display import display, Math, Latex"
   ]
  },
  {
   "cell_type": "code",
   "execution_count": 97,
   "metadata": {},
   "outputs": [],
   "source": [
    "def Fit(X,m_inf,y_0,KK=0.002):\n",
    "    display(Math('model-->'r'm_0 = \\frac{m_\\infty}{1+[\\frac{m_\\infty}{m_0}-1]\\cdot e ^{-Kt}}'))\n",
    "    print('m{}'.format('\\u2092'), '= ', y_0, '[mg/cm{}]'.format('\\u00B2'))\n",
    "    print('K = ',KK,'[1/hours]')\n",
    "    fit = (m_inf) / (1+ ((m_inf/y_0)-1)*(np.exp(-KK*X)) )\n",
    "    return fit"
   ]
  },
  {
   "cell_type": "code",
   "execution_count": 98,
   "metadata": {},
   "outputs": [],
   "source": [
    "y11 = np.array([0.00001,4.38,4.39,4.75]).reshape(-1,1)\n",
    "y12 = np.array([0.00001,2.46,2.54,2.61]).reshape(-1,1)\n",
    "y14 = np.array([0.00001,1.10,0.84,0.83]).reshape(-1,1)\n",
    "y52 = np.array([0.00001,2.31,3.71,8.98]).reshape(-1,1)\n",
    "# Data_dic = {11: y11, 12: y12, 14: y14, 52:y52}\n",
    "Data_dic = {'100 rpm, RT': y11, '200 rpm, RT': y12, '400 rpm, RT': y14, '200 rpm, T50':y52}"
   ]
  },
  {
   "cell_type": "code",
   "execution_count": 128,
   "metadata": {},
   "outputs": [
    {
     "data": {
      "application/vnd.jupyter.widget-view+json": {
       "model_id": "3c99b4b8423341f2b6d5ec1e3439b5ab",
       "version_major": 2,
       "version_minor": 0
      },
      "text/plain": [
       "interactive(children=(IntSlider(value=400, description='Kx${10^{3}}$ =', max=2000, step=50), IntSlider(value=-…"
      ]
     },
     "metadata": {},
     "output_type": "display_data"
    }
   ],
   "source": [
    "def train_and_plot(K,m_zero_power=-6,m_inf=4.5,data_code=11):\n",
    "#     X = np.array([0,172800,345600,691200]).reshape(-1,1)\n",
    "    X = np.array([0,48,96,192]).reshape(-1,1)\n",
    "    x = np.linspace(0,200,2000)\n",
    "#     print(data_code)\n",
    "    y = Data_dic[data_code]\n",
    "    plt.plot(X, y, 'b.', label='data',markersize=12)#,marker='s')\n",
    "    line = plt.plot(x, Fit(x,m_inf,10**m_zero_power,KK=K/1000), 'r--', label='model')\n",
    "    plt.setp(line, linewidth=2)\n",
    "    plt.xlabel('X, [hours]')\n",
    "    plt.ylabel(('m [mg/cm{}]'.format('\\u00B2')))\n",
    "    plt.legend(loc='right');\n",
    "    plt.show()\n",
    "\n",
    "# Data_code = Dropdown[('100 rpm, RT',11),('200 rpm, RT',12),('400 rpm, RT',14),('200 rpm, T50',52)]\n",
    "# Data_code = Dropdown[('100 rpm, RT'),('200 rpm, RT'),('400 rpm, RT'),('200 rpm, T50')]\n",
    "Data_code = Dropdown(options=['100 rpm, RT','200 rpm, RT','400 rpm, RT','200 rpm, T50'],values=[11,12,14,52],description='Select data')\n",
    "K_slider=IntSlider(min=0,max=2000,step=50,value=400,description='Kx${10^{3}}$ =')\n",
    "m_inf_slider=FloatSlider(min=0.5,max=40,step=2,value=4.5,description='${m_{\\infty}}$=')\n",
    "M_zero_slider=IntSlider(min=-8,max=0,step=1,value=-6, description='${m_{0}}$=10^')\n",
    "interactive(train_and_plot,K=K_slider,m_zero_power=M_zero_slider,m_inf=m_inf_slider,data_code=Data_code)"
   ]
  },
  {
   "cell_type": "code",
   "execution_count": null,
   "metadata": {},
   "outputs": [],
   "source": []
  },
  {
   "cell_type": "code",
   "execution_count": null,
   "metadata": {},
   "outputs": [],
   "source": []
  }
 ],
 "metadata": {
  "kernelspec": {
   "display_name": "Python 3",
   "language": "python",
   "name": "python3"
  },
  "language_info": {
   "codemirror_mode": {
    "name": "ipython",
    "version": 3
   },
   "file_extension": ".py",
   "mimetype": "text/x-python",
   "name": "python",
   "nbconvert_exporter": "python",
   "pygments_lexer": "ipython3",
   "version": "3.7.5"
  }
 },
 "nbformat": 4,
 "nbformat_minor": 2
}
